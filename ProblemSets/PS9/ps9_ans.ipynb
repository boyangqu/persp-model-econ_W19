{
 "cells": [
  {
   "cell_type": "code",
   "execution_count": 1,
   "metadata": {},
   "outputs": [],
   "source": [
    "import pandas as pd\n",
    "from sklearn.linear_model import LogisticRegression\n",
    "from sklearn.model_selection import RandomizedSearchCV\n",
    "from sklearn.ensemble import RandomForestClassifier\n",
    "from sklearn.metrics import mean_squared_error\n",
    "from sklearn.svm import SVC\n",
    "from sklearn.neural_network import MLPClassifier\n",
    "import matplotlib.pyplot as plt\n",
    "from scipy.stats import uniform as sp_uniform\n",
    "from scipy.stats import randint as sp_randint\n",
    "\n",
    "import warnings\n",
    "warnings.filterwarnings(\"ignore\")"
   ]
  },
  {
   "cell_type": "markdown",
   "metadata": {},
   "source": [
    "Problem 1"
   ]
  },
  {
   "cell_type": "markdown",
   "metadata": {},
   "source": [
    "a)"
   ]
  },
  {
   "cell_type": "code",
   "execution_count": 2,
   "metadata": {},
   "outputs": [
    {
     "data": {
      "image/png": "[encoded data removed]",
      "text/plain": [
       "<Figure size 432x288 with 1 Axes>"
      ]
     },
     "metadata": {
      "needs_background": "light"
     },
     "output_type": "display_data"
    }
   ],
   "source": [
    "data = pd.read_csv('data/strongdrink.txt', na_values = '?')\n",
    "for cultivar, group in data.groupby(['cultivar']):\n",
    "    plt.scatter(group['alco'], group['color_int'],label = cultivar)\n",
    "\n",
    "plt.legend()\n",
    "plt.xlabel(\"Alcohol\")\n",
    "plt.ylabel(\"Color Intensity\")\n",
    "plt.title(\"Color intensity Versus Alcohol\")\n",
    "plt.show()"
   ]
  },
  {
   "cell_type": "markdown",
   "metadata": {},
   "source": [
    "b)"
   ]
  },
  {
   "cell_type": "code",
   "execution_count": 3,
   "metadata": {},
   "outputs": [
    {
     "name": "stdout",
     "output_type": "stream",
     "text": [
      "Optimal tuning parameter values are\n",
      " {'C': 2.665871587495725, 'penalty': 'l1'}\n",
      "MSE = 0.11931818181818182\n"
     ]
    }
   ],
   "source": [
    "X = data[['alco','malic','tot_phen','color_int']]\n",
    "y = data['cultivar']\n",
    "\n",
    "LogReg = LogisticRegression()\n",
    "param_dist1 = {'penalty': ['l1', 'l2'], 'C': sp_uniform(0.1, 10.0)}\n",
    "random_search1 = RandomizedSearchCV(LogReg, param_distributions = param_dist1, \n",
    "                                 n_iter = 100, n_jobs = -1, cv = 5, random_state = 25, scoring = 'neg_mean_squared_error')\n",
    "random_search1.fit(X, y)\n",
    "\n",
    "print('Optimal tuning parameter values are\\n', random_search1.best_params_)\n",
    "print('MSE =', abs(random_search1.best_score_))"
   ]
  },
  {
   "cell_type": "markdown",
   "metadata": {},
   "source": [
    "c)"
   ]
  },
  {
   "cell_type": "code",
   "execution_count": 4,
   "metadata": {},
   "outputs": [
    {
     "name": "stdout",
     "output_type": "stream",
     "text": [
      "Optimal tuning parameter values are\n",
      " {'max_depth': 4, 'max_features': 1, 'min_samples_leaf': 5, 'min_samples_split': 15, 'n_estimators': 200}\n",
      "MSE = 0.1534090909090909\n"
     ]
    }
   ],
   "source": [
    "param_dist2 = {'n_estimators': [10, 200],\n",
    "               'max_depth': [2, 4],\n",
    "               'min_samples_split': sp_randint(2, 20),\n",
    "               'min_samples_leaf': sp_randint(2, 20),\n",
    "               'max_features': sp_randint(1, 4)}\n",
    "random_search2 = RandomizedSearchCV(RandomForestClassifier(), param_dist2, \n",
    "                                   n_iter=100, n_jobs=-1, cv=4, random_state=25, scoring='neg_mean_squared_error')\n",
    "\n",
    "random_search2.fit(X, y)\n",
    "\n",
    "print('Optimal tuning parameter values are\\n', random_search2.best_params_)\n",
    "print('MSE =', abs(random_search2.best_score_))\n"
   ]
  },
  {
   "cell_type": "markdown",
   "metadata": {},
   "source": [
    "d)"
   ]
  },
  {
   "cell_type": "code",
   "execution_count": 5,
   "metadata": {},
   "outputs": [
    {
     "name": "stdout",
     "output_type": "stream",
     "text": [
      "Optimal tuning parameter values are\n",
      " {'C': 1.790414563978564, 'gamma': 'scale', 'shrinking': True}\n",
      "MSE = 0.1534090909090909\n"
     ]
    }
   ],
   "source": [
    "param_dist3 = {'C': sp_uniform(loc=0.1, scale=10.0),\n",
    "               'gamma': ['scale', 'auto'],\n",
    "               'shrinking': [True, False]}\n",
    "random_search3 = RandomizedSearchCV(SVC(), param_dist3, \n",
    "                                n_iter=100, n_jobs=-1, cv=4, random_state=25, scoring='neg_mean_squared_error')\n",
    "\n",
    "random_search3.fit(X, y)\n",
    "print('Optimal tuning parameter values are\\n', random_search3.best_params_)\n",
    "print('MSE =', abs(random_search3.best_score_))"
   ]
  },
  {
   "cell_type": "markdown",
   "metadata": {},
   "source": [
    "e)"
   ]
  },
  {
   "cell_type": "code",
   "execution_count": 6,
   "metadata": {},
   "outputs": [
    {
     "name": "stdout",
     "output_type": "stream",
     "text": [
      "Optimal tuning parameter values are\n",
      " {'activation': 'logistic', 'alpha': 0.5296878218210631, 'hidden_layer_sizes': 88}\n",
      "MSE = 0.23295454545454544\n"
     ]
    }
   ],
   "source": [
    "param_dist4 = {'hidden_layer_sizes': sp_randint(1, 100),\n",
    "               'activation': ['logistic', 'relu'],\n",
    "               'alpha': sp_uniform(0.1, 10.0)}\n",
    "random_search4 = RandomizedSearchCV(MLPClassifier(), param_dist4, \n",
    "                                n_iter=100, n_jobs=-1, cv=4, random_state=25, scoring='neg_mean_squared_error')\n",
    "\n",
    "random_search4.fit(X, y)\n",
    "print('Optimal tuning parameter values are\\n', random_search4.best_params_)\n",
    "print('MSE =', abs(random_search4.best_score_))\n"
   ]
  },
  {
   "cell_type": "markdown",
   "metadata": {},
   "source": [
    "f)"
   ]
  },
  {
   "cell_type": "markdown",
   "metadata": {},
   "source": [
    "Among all four models (logistic regression, random forest, SVM and neural network), I think logistic regression is the best model to predict cultivar because it has the lowest MSE.\n",
    "\n",
    "Among the three models above (random forest, SVM and neural network), I think random forest and SVC are equally well in predicting cultivar because the MSE values of the two models are the same, and they are better than neural network because their MSE values is lower than that of neural network model."
   ]
  }
 ],
 "metadata": {
  "kernelspec": {
   "display_name": "Python 3",
   "language": "python",
   "name": "python3"
  },
  "language_info": {
   "codemirror_mode": {
    "name": "ipython",
    "version": 3
   },
   "file_extension": ".py",
   "mimetype": "text/x-python",
   "name": "python",
   "nbconvert_exporter": "python",
   "pygments_lexer": "ipython3",
   "version": "3.7.1"
  }
 },
 "nbformat": 4,
 "nbformat_minor": 2
}
